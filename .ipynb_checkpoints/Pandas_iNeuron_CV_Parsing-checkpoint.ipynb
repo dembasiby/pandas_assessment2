{
 "cells": [
  {
   "cell_type": "markdown",
   "id": "c0556c5b",
   "metadata": {},
   "source": [
    "Read all the resume from iNeuron git in PDF and Word, and try to create a dataframe with\n",
    "- resume name as index value; and\n",
    "- email id, linkedin id, github id, skills as columns."
   ]
  },
  {
   "cell_type": "code",
   "execution_count": 10,
   "id": "f69e999c",
   "metadata": {},
   "outputs": [],
   "source": [
    "import pandas as pd\n",
    "from docx import Document\n",
    "from striprtf.striprtf import rtf_to_text\n",
    "import PyPDF2\n",
    "import pdfx\n",
    "import re\n",
    "import os"
   ]
  },
  {
   "cell_type": "code",
   "execution_count": 13,
   "id": "4b5b953f",
   "metadata": {},
   "outputs": [],
   "source": [
    "def match_pattern(element, pattern, text):\n",
    "    try:\n",
    "        element = re.search(pattern, text)\n",
    "        if element:\n",
    "            element = element.group(0)\n",
    "        return element\n",
    "    except Exception as e:\n",
    "        return e\n",
    "\n",
    "def processDocs(text, emailpattern, linkedinpattern, githubpattern,\n",
    "                email, linkedinId, githubId, skills):\n",
    "    try:\n",
    "        if not email: \n",
    "            email = match_pattern(email, emailpattern, text)\n",
    "        if not linkedinId:\n",
    "            linkedinId = match_pattern(linkedinId, linkedinpattern, text)\n",
    "        if not githubId:\n",
    "            githubId = match_pattern(githubId, githubpattern, text)\n",
    "        if 'skill' in text.lower(): # Not really what I want\n",
    "            pass\n",
    "\n",
    "        return {\"email\": email, \n",
    "                \"linkedin id\": linkedinId, \n",
    "                \"github id\": githubId, \"skills\": skills }\n",
    "    except Exception as e:\n",
    "        return e\n",
    "    \n",
    "def processWordDocument(filepath, emailpattern, \n",
    "                        linkedinpattern, githubpattern, email=None,\n",
    "                        linkedinId=None, githubId=None, skills = []):\n",
    "    try:\n",
    "        doc = Document(filepath)\n",
    "        resultText = ''\n",
    "        for p in doc.paragraphs:\n",
    "            resultText +=(p.text + ' ')\n",
    "\n",
    "        return processDocs(resultText, emailpattern, \n",
    "                           linkedinpattern, githubpattern,\n",
    "                           email, linkedinId, githubId, skills)\n",
    "    except Exception as e:\n",
    "        return e\n",
    "\n",
    "def getPDFLinks(filepath):\n",
    "    try:\n",
    "        with open(filepath,'rb') as PDFFile:\n",
    "            PDF = PyPDF2.PdfFileReader(PDFFile)\n",
    "            pages = PDF.getNumPages()\n",
    "            key = '/Annots'\n",
    "            uri = '/URI'\n",
    "            ank = '/A'\n",
    "            links = []\n",
    "\n",
    "            for page in range(pages):\n",
    "                pageSliced = PDF.getPage(page)\n",
    "                pageObject = pageSliced.getObject()\n",
    "                if key in pageObject.keys():\n",
    "                    ann = pageObject[key]\n",
    "                    for a in ann:\n",
    "                        u = a.getObject()\n",
    "                        if uri in u[ank].keys():\n",
    "                            link = re.sub('mailto:', '', u[ank][uri])\n",
    "                            links.append(link)\n",
    "        return links\n",
    "    except Exception as e:\n",
    "        return e\n",
    "\n",
    "def processPDFDocs(filepath, emailpattern, \n",
    "                    linkedinpattern, githubpattern, email=None,\n",
    "                    linkedinId=None, githubId=None, skills = []):\n",
    "    try:\n",
    "        linksInPDF = ' '.join(getPDFLinks(filepath))\n",
    "        pdfText = pdfx.PDFx(filepath).get_text()\n",
    "        pdfText += linksInPDF\n",
    "\n",
    "        return processDocs(pdfText, emailpattern, linkedinpattern, \n",
    "                           githubpattern, email, linkedinId, githubId, skills)\n",
    "    except Exception as e:\n",
    "        return e\n",
    "    \n",
    "def processGenericDocs(filepath, emailpattern, \n",
    "                       linkedinpattern, githubpattern, email=None,\n",
    "                       linkedinId=None, githubId=None, skills = []):\n",
    "    try: \n",
    "        with open(filepath, 'r', encoding = \"ISO-8859-1\") as f:\n",
    "            content = f.read()\n",
    "            content = rtf_to_text(content)\n",
    "            result = processDocs(content, emailpattern, \n",
    "                                 linkedinpattern, githubpattern,\n",
    "                                 email, linkedinId, githubId, skills)\n",
    "        return result\n",
    "    except Exception as e:\n",
    "        return e\n",
    "\n",
    "def cvParser(dirpath):\n",
    "    try:\n",
    "        emailregex = r'([A-Za-z0-9]+[.-_])*[A-Za-z0-9]+@[A-Za-z0-9-]+(\\.[A-Z|a-z]{2,})+'\n",
    "        linkedinregex = r'(http(s?):\\/\\/)?(www\\.)?linkedin\\.com\\/in\\/([A-Za-z0-9]{1,})'\n",
    "        githubregex =   r'(http(s?):\\/\\/)?(www\\.)?github\\.com\\/([A-Za-z0-9]{1,})'\n",
    "        mylist = []\n",
    "\n",
    "        for filename in os.listdir(resdir):\n",
    "            file = os.path.join(resdir, filename)\n",
    "            fname, fextention = os.path.splitext(file)\n",
    "            obj = {\"name\": filename }\n",
    "\n",
    "            if fextention.lower() == '.pdf':\n",
    "                obj.update(processPDFDocs(\n",
    "                    file, emailregex, linkedinregex, githubregex))\n",
    "\n",
    "            elif fextention.lower() == '.docx':\n",
    "                obj.update(processWordDocument(\n",
    "                    file, emailregex, linkedinregex, githubregex))\n",
    "            else:\n",
    "                obj.update(processGenericDocs(\n",
    "                    file, emailregex, linkedinregex, githubregex))\n",
    "\n",
    "            mylist.append(obj)\n",
    "        return mylist\n",
    "    except Exception as e:\n",
    "        return e\n"
   ]
  },
  {
   "cell_type": "code",
   "execution_count": 14,
   "id": "3282066e",
   "metadata": {},
   "outputs": [
    {
     "name": "stdout",
     "output_type": "stream",
     "text": [
      "[Errno 13] Permission denied: 'resumes\\\\.ipynb_checkpoints'\n",
      "'NoneType' object is not iterable\n"
     ]
    }
   ],
   "source": [
    "resdir = 'C:\\\\Users\\\\dell\\\\iNeuron\\\\python\\\\Pandas\\\\pandas_assessment2\\\\resumes'\n",
    "cvlist = cvParser(resdir)\n",
    "cvlist\n",
    "#dframe = pd.DataFrame(cvlist)\n",
    "#dframe.set_index('name')"
   ]
  },
  {
   "cell_type": "code",
   "execution_count": 15,
   "id": "1b62114a",
   "metadata": {},
   "outputs": [
    {
     "data": {
      "text/plain": [
       "'C:\\\\Users\\\\dell\\\\iNeuron\\\\python\\\\Pandas\\\\pandas_assessment2'"
      ]
     },
     "execution_count": 15,
     "metadata": {},
     "output_type": "execute_result"
    }
   ],
   "source": [
    "pwd"
   ]
  },
  {
   "cell_type": "code",
   "execution_count": null,
   "id": "44f5e88d",
   "metadata": {},
   "outputs": [],
   "source": []
  }
 ],
 "metadata": {
  "kernelspec": {
   "display_name": "Python 3 (ipykernel)",
   "language": "python",
   "name": "python3"
  },
  "language_info": {
   "codemirror_mode": {
    "name": "ipython",
    "version": 3
   },
   "file_extension": ".py",
   "mimetype": "text/x-python",
   "name": "python",
   "nbconvert_exporter": "python",
   "pygments_lexer": "ipython3",
   "version": "3.8.5"
  }
 },
 "nbformat": 4,
 "nbformat_minor": 5
}
